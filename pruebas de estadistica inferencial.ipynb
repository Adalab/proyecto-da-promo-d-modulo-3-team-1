{
 "cells": [
  {
   "cell_type": "code",
   "execution_count": 2,
   "metadata": {},
   "outputs": [],
   "source": [
    "import numpy as np\n",
    "import pandas as pd\n",
    "import os\n",
    "from sklearn.impute import SimpleImputer\n",
    "from sklearn.experimental import enable_iterative_imputer\n",
    "from sklearn.impute import IterativeImputer\n",
    "from sklearn.impute import KNNImputer\n",
    "import scipy.stats as stats\n",
    "from scipy.stats import chi2_contingency\n",
    "from scipy.stats import ttest_ind\n",
    "from scipy.stats import shapiro, kstest, poisson, levene, bartlett, mannwhitneyu\n",
    "from scipy.stats import ttest_ind, spearmanr\n",
    "import seaborn as sns\n",
    "import matplotlib.pyplot as plt\n",
    "import matplotlib.colors as mcolors\n",
    "from IPython.display import display, Markdown, Image\n",
    "import warnings\n",
    "warnings.filterwarnings(\"ignore\", category=FutureWarning)\n",
    "pd.set_option('display.max_columns', None)\n",
    "from colores_team_1 import paleta_team_1, get_gradient_cmap, apply_team_palette\n",
    "from matplotlib.colors import LinearSegmentedColormap"
   ]
  },
  {
   "cell_type": "code",
   "execution_count": 3,
   "metadata": {},
   "outputs": [],
   "source": [
    "df_talento = pd.read_csv('df_talento_limpio.csv' , sep=',')"
   ]
  },
  {
   "cell_type": "code",
   "execution_count": 4,
   "metadata": {},
   "outputs": [
    {
     "data": {
      "text/html": [
       "<div>\n",
       "<style scoped>\n",
       "    .dataframe tbody tr th:only-of-type {\n",
       "        vertical-align: middle;\n",
       "    }\n",
       "\n",
       "    .dataframe tbody tr th {\n",
       "        vertical-align: top;\n",
       "    }\n",
       "\n",
       "    .dataframe thead th {\n",
       "        text-align: right;\n",
       "    }\n",
       "</style>\n",
       "<table border=\"1\" class=\"dataframe\">\n",
       "  <thead>\n",
       "    <tr style=\"text-align: right;\">\n",
       "      <th></th>\n",
       "      <th>age</th>\n",
       "      <th>attrition</th>\n",
       "      <th>business_travel</th>\n",
       "      <th>department</th>\n",
       "      <th>distance_from_home</th>\n",
       "      <th>education</th>\n",
       "      <th>education_field</th>\n",
       "      <th>employee_number</th>\n",
       "      <th>environment_satisfaction</th>\n",
       "      <th>gender</th>\n",
       "      <th>job_involvement</th>\n",
       "      <th>job_level</th>\n",
       "      <th>job_role</th>\n",
       "      <th>job_satisfaction</th>\n",
       "      <th>marital_status</th>\n",
       "      <th>monthly_income</th>\n",
       "      <th>num_companies_worked</th>\n",
       "      <th>overtime</th>\n",
       "      <th>percent_salary_hike</th>\n",
       "      <th>performance_rating</th>\n",
       "      <th>relationship_satisfaction</th>\n",
       "      <th>stock_option_level</th>\n",
       "      <th>total_working_years</th>\n",
       "      <th>training_times_last_year</th>\n",
       "      <th>work_life_balance</th>\n",
       "      <th>years_at_company</th>\n",
       "      <th>years_since_last_promotion</th>\n",
       "      <th>years_with_curr_manager</th>\n",
       "      <th>date_birth</th>\n",
       "      <th>remote_work</th>\n",
       "    </tr>\n",
       "  </thead>\n",
       "  <tbody>\n",
       "    <tr>\n",
       "      <th>0</th>\n",
       "      <td>51</td>\n",
       "      <td>no</td>\n",
       "      <td>unknown</td>\n",
       "      <td>research_&amp;_development</td>\n",
       "      <td>6</td>\n",
       "      <td>3</td>\n",
       "      <td>unknown</td>\n",
       "      <td>162</td>\n",
       "      <td>1</td>\n",
       "      <td>male</td>\n",
       "      <td>3</td>\n",
       "      <td>5</td>\n",
       "      <td>research director</td>\n",
       "      <td>3</td>\n",
       "      <td>unknown</td>\n",
       "      <td>19537.000000</td>\n",
       "      <td>7</td>\n",
       "      <td>No</td>\n",
       "      <td>13</td>\n",
       "      <td>3</td>\n",
       "      <td>3</td>\n",
       "      <td>0</td>\n",
       "      <td>28</td>\n",
       "      <td>5</td>\n",
       "      <td>3</td>\n",
       "      <td>20</td>\n",
       "      <td>15</td>\n",
       "      <td>15</td>\n",
       "      <td>1972</td>\n",
       "      <td>yes</td>\n",
       "    </tr>\n",
       "    <tr>\n",
       "      <th>1</th>\n",
       "      <td>52</td>\n",
       "      <td>no</td>\n",
       "      <td>unknown</td>\n",
       "      <td>research_&amp;_development</td>\n",
       "      <td>1</td>\n",
       "      <td>4</td>\n",
       "      <td>life_sciences</td>\n",
       "      <td>259</td>\n",
       "      <td>3</td>\n",
       "      <td>male</td>\n",
       "      <td>2</td>\n",
       "      <td>5</td>\n",
       "      <td>manager</td>\n",
       "      <td>3</td>\n",
       "      <td>unknown</td>\n",
       "      <td>19999.000000</td>\n",
       "      <td>0</td>\n",
       "      <td>unknown</td>\n",
       "      <td>14</td>\n",
       "      <td>3</td>\n",
       "      <td>1</td>\n",
       "      <td>1</td>\n",
       "      <td>34</td>\n",
       "      <td>5</td>\n",
       "      <td>3</td>\n",
       "      <td>33</td>\n",
       "      <td>11</td>\n",
       "      <td>9</td>\n",
       "      <td>1971</td>\n",
       "      <td>yes</td>\n",
       "    </tr>\n",
       "    <tr>\n",
       "      <th>2</th>\n",
       "      <td>42</td>\n",
       "      <td>no</td>\n",
       "      <td>travel_rarely</td>\n",
       "      <td>research_&amp;_development</td>\n",
       "      <td>4</td>\n",
       "      <td>2</td>\n",
       "      <td>technical_degree</td>\n",
       "      <td>319</td>\n",
       "      <td>3</td>\n",
       "      <td>male</td>\n",
       "      <td>3</td>\n",
       "      <td>5</td>\n",
       "      <td>manager</td>\n",
       "      <td>4</td>\n",
       "      <td>married</td>\n",
       "      <td>19232.000000</td>\n",
       "      <td>1</td>\n",
       "      <td>No</td>\n",
       "      <td>11</td>\n",
       "      <td>3</td>\n",
       "      <td>4</td>\n",
       "      <td>0</td>\n",
       "      <td>22</td>\n",
       "      <td>3</td>\n",
       "      <td>3</td>\n",
       "      <td>22</td>\n",
       "      <td>11</td>\n",
       "      <td>15</td>\n",
       "      <td>1981</td>\n",
       "      <td>yes</td>\n",
       "    </tr>\n",
       "    <tr>\n",
       "      <th>3</th>\n",
       "      <td>48</td>\n",
       "      <td>no</td>\n",
       "      <td>unknown</td>\n",
       "      <td>research_&amp;_development</td>\n",
       "      <td>22</td>\n",
       "      <td>3</td>\n",
       "      <td>medical</td>\n",
       "      <td>1900</td>\n",
       "      <td>4</td>\n",
       "      <td>female</td>\n",
       "      <td>3</td>\n",
       "      <td>4</td>\n",
       "      <td>manager</td>\n",
       "      <td>4</td>\n",
       "      <td>unknown</td>\n",
       "      <td>17174.000000</td>\n",
       "      <td>3</td>\n",
       "      <td>No</td>\n",
       "      <td>11</td>\n",
       "      <td>3</td>\n",
       "      <td>2</td>\n",
       "      <td>1</td>\n",
       "      <td>22</td>\n",
       "      <td>3</td>\n",
       "      <td>3</td>\n",
       "      <td>22</td>\n",
       "      <td>4</td>\n",
       "      <td>7</td>\n",
       "      <td>1975</td>\n",
       "      <td>yes</td>\n",
       "    </tr>\n",
       "    <tr>\n",
       "      <th>4</th>\n",
       "      <td>59</td>\n",
       "      <td>no</td>\n",
       "      <td>unknown</td>\n",
       "      <td>sales</td>\n",
       "      <td>25</td>\n",
       "      <td>3</td>\n",
       "      <td>life_sciences</td>\n",
       "      <td>81</td>\n",
       "      <td>1</td>\n",
       "      <td>female</td>\n",
       "      <td>3</td>\n",
       "      <td>3</td>\n",
       "      <td>sales executive</td>\n",
       "      <td>1</td>\n",
       "      <td>unknown</td>\n",
       "      <td>10827.461567</td>\n",
       "      <td>7</td>\n",
       "      <td>unknown</td>\n",
       "      <td>11</td>\n",
       "      <td>3</td>\n",
       "      <td>4</td>\n",
       "      <td>0</td>\n",
       "      <td>28</td>\n",
       "      <td>3</td>\n",
       "      <td>2</td>\n",
       "      <td>21</td>\n",
       "      <td>7</td>\n",
       "      <td>9</td>\n",
       "      <td>1964</td>\n",
       "      <td>yes</td>\n",
       "    </tr>\n",
       "  </tbody>\n",
       "</table>\n",
       "</div>"
      ],
      "text/plain": [
       "   age attrition business_travel              department  distance_from_home  \\\n",
       "0   51        no         unknown  research_&_development                   6   \n",
       "1   52        no         unknown  research_&_development                   1   \n",
       "2   42        no   travel_rarely  research_&_development                   4   \n",
       "3   48        no         unknown  research_&_development                  22   \n",
       "4   59        no         unknown                   sales                  25   \n",
       "\n",
       "   education   education_field employee_number  environment_satisfaction  \\\n",
       "0          3           unknown             162                         1   \n",
       "1          4     life_sciences             259                         3   \n",
       "2          2  technical_degree             319                         3   \n",
       "3          3           medical            1900                         4   \n",
       "4          3     life_sciences              81                         1   \n",
       "\n",
       "   gender  job_involvement  job_level           job_role  job_satisfaction  \\\n",
       "0    male                3          5  research director                 3   \n",
       "1    male                2          5            manager                 3   \n",
       "2    male                3          5            manager                 4   \n",
       "3  female                3          4            manager                 4   \n",
       "4  female                3          3    sales executive                 1   \n",
       "\n",
       "  marital_status  monthly_income  num_companies_worked overtime  \\\n",
       "0        unknown    19537.000000                     7       No   \n",
       "1        unknown    19999.000000                     0  unknown   \n",
       "2        married    19232.000000                     1       No   \n",
       "3        unknown    17174.000000                     3       No   \n",
       "4        unknown    10827.461567                     7  unknown   \n",
       "\n",
       "   percent_salary_hike  performance_rating  relationship_satisfaction  \\\n",
       "0                   13                   3                          3   \n",
       "1                   14                   3                          1   \n",
       "2                   11                   3                          4   \n",
       "3                   11                   3                          2   \n",
       "4                   11                   3                          4   \n",
       "\n",
       "   stock_option_level  total_working_years  training_times_last_year  \\\n",
       "0                   0                   28                         5   \n",
       "1                   1                   34                         5   \n",
       "2                   0                   22                         3   \n",
       "3                   1                   22                         3   \n",
       "4                   0                   28                         3   \n",
       "\n",
       "   work_life_balance  years_at_company  years_since_last_promotion  \\\n",
       "0                  3                20                          15   \n",
       "1                  3                33                          11   \n",
       "2                  3                22                          11   \n",
       "3                  3                22                           4   \n",
       "4                  2                21                           7   \n",
       "\n",
       "   years_with_curr_manager  date_birth remote_work  \n",
       "0                       15        1972         yes  \n",
       "1                        9        1971         yes  \n",
       "2                       15        1981         yes  \n",
       "3                        7        1975         yes  \n",
       "4                        9        1964         yes  "
      ]
     },
     "execution_count": 4,
     "metadata": {},
     "output_type": "execute_result"
    }
   ],
   "source": [
    "df_talento.head(5)\n"
   ]
  },
  {
   "cell_type": "code",
   "execution_count": null,
   "metadata": {},
   "outputs": [],
   "source": [
    "## Estrategia 1 : Crear planes de carrera para retener el talento joven con más formaciones y programas de mentoring\n",
    "\n",
    "## Strategy 1 : Create career plans to retain young talent with more training and mentorship programmes"
   ]
  },
  {
   "cell_type": "code",
   "execution_count": null,
   "metadata": {},
   "outputs": [
    {
     "name": "stdout",
     "output_type": "stream",
     "text": [
      "Shapiro - NO Attrition: p-value = 6.036408762559986e-13\n",
      "Shapiro - YES Attrition: p-value = 3.62741239914311e-08\n"
     ]
    }
   ],
   "source": [
    "#Para comprobar si la  distribución de la variable age es nomal aplicamos el test Shapiro-Wilk por ser muy preciso con los muestra pequeñas o medianas como la nuestra.\n",
    "\n",
    "#To check whether the distribution of the variable age is nominal, we apply the Shapiro-Wilk test because it is very accurate with small or medium-sized samples like ours.\n",
    "\n",
    "stat_no, p_no = shapiro(df_talento[df_talento['attrition'] == 'no']['age'])\n",
    "stat_yes, p_yes = shapiro(df_talento[df_talento['attrition'] == 'yes']['age'])\n",
    "\n",
    "print(f\"Shapiro - NO Attrition: p-value = {p_no}\")\n",
    "print(f\"Shapiro - YES Attrition: p-value = {p_yes}\")\n"
   ]
  },
  {
   "cell_type": "code",
   "execution_count": null,
   "metadata": {},
   "outputs": [
    {
     "name": "stdout",
     "output_type": "stream",
     "text": [
      "Mann-Whitney U test p-value: 1.3635874165787773e-11\n"
     ]
    }
   ],
   "source": [
    "#Como el valor de p < 0.05 → los datos no son normales. Con este resultado por lo que usamos una prueba no parametrica comparando los dos grupos con el test de Mann-Whitney U.\n",
    "# H0: La distribución de la edad es igual o mayor en el grupo \"YES Attrition\" comparado con el grupo \"NO Attrition\".\n",
    "# H1: La edad en el grupo \"YES Attrition\" es menor que en el grupo \"NO Attrition\".\n",
    "\n",
    "#As the p-value < 0.05 → the data are not normal. With this result we therefore use a non-parametric test comparing the two groups with the Mann-Whitney U test.\n",
    "# H0: The age distribution is equal or greater in the ‘YES Attrition’ group compared to the ‘NO Attrition’ group.\n",
    "# H1: The age in the ‘YES Attrition’ group is lower than in the ‘NO Attrition’ group.\n",
    "\n",
    "u_stat, p_mw = mannwhitneyu(\n",
    "    df_talento[df_talento['attrition'] == 'yes']['age'],\n",
    "    df_talento[df_talento['attrition'] == 'no']['age'],\n",
    "    alternative='less')\n",
    "\n",
    "print(f\"Mann-Whitney U test p-value: {p_mw}\")\n"
   ]
  },
  {
   "cell_type": "markdown",
   "metadata": {},
   "source": [
    "p ≤ 0.05 → Rechazas la Hipótesis Nula (H0). Hay una evidencia estadistica muy fuerte para poder afirmar que la edad de las personas que se fueron (yes) es significativamente menor que la edad de quienes se quedaron (no)\n",
    "\n",
    "p ≤ 0.05 → You reject the Null Hypothesis (H0). There is very strong statistical evidence that the age of those who left (yes) is significantly lower than the age of those who stayed (no)."
   ]
  },
  {
   "cell_type": "code",
   "execution_count": null,
   "metadata": {},
   "outputs": [
    {
     "name": "stdout",
     "output_type": "stream",
     "text": [
      "Shapiro - NO Attrition Training: p-value = 5.97734353202577e-29\n",
      "Shapiro - YES Attrition Training: p-value = 2.1188000107043584e-11\n"
     ]
    }
   ],
   "source": [
    "#Ahora revisamos si la distribucion de la variable training_times_last_year es normal o no en el grupo de empleados que se fueron y en el grupo de empleados que se quedaron.\n",
    "\n",
    "#Now we check whether the distribution of the variable training_times_last_year is normal or not in the group of employees who left and in the group of employees who stayed.\n",
    "\n",
    "stat_no_train, p_no_train = shapiro(df_talento[df_talento['attrition'] == 'no']['training_times_last_year'])\n",
    "stat_yes_train, p_yes_train = shapiro(df_talento[df_talento['attrition'] == 'yes']['training_times_last_year'])\n",
    "\n",
    "print(f\"Shapiro - NO Attrition Training: p-value = {p_no_train}\")\n",
    "print(f\"Shapiro - YES Attrition Training: p-value = {p_yes_train}\")\n"
   ]
  },
  {
   "cell_type": "code",
   "execution_count": null,
   "metadata": {},
   "outputs": [
    {
     "name": "stdout",
     "output_type": "stream",
     "text": [
      "Mann-Whitney U test (Training) p-value: 0.038303295034666146\n"
     ]
    }
   ],
   "source": [
    "#Como  en la prueba anterior el valor de p < 0.05 → los datos no son normales, por lo que pasamos a realizar el test de Mann-Whitney U.\n",
    "#H0: La cantidad de formaciones recibidas por el grupo \"YES Attrition\" es igual o mayor que la del grupo \"NO Attrition\"\n",
    "#H1: La cantidad de formaciones en el grupo \"YES Attrition\" es menor que en el grupo \"NO Attrition\" \n",
    "\n",
    "#As in the previous test the p-value < 0.05 → the data are not normal, so we proceed to perform the Mann-Whitney U test.\n",
    "#H0: The amount of training received by the ‘YES Attrition’ group is equal to or greater than that of the ‘NO Attrition’ group.\n",
    "#H1: The amount of training in the ‘YES Attrition’ group is lower than in the ‘NO Attrition’ group.\n",
    "\n",
    "u_stat_train, p_mw_train = mannwhitneyu(\n",
    "    df_talento[df_talento['attrition'] == 'yes']['training_times_last_year'],\n",
    "    df_talento[df_talento['attrition'] == 'no']['training_times_last_year'],\n",
    "    alternative='less')\n",
    "\n",
    "print(f\"Mann-Whitney U test (Training) p-value: {p_mw_train}\")\n"
   ]
  },
  {
   "cell_type": "markdown",
   "metadata": {},
   "source": [
    "El valor de p ≤ 0.05 → Rechazas la Hipótesis Nula (H0). Tenemos evidencia estadistica para defender que las personas que se fueron de la empresa (yes)recibieron menos formacion que los empleados que se quedaron (no)\n",
    "\n",
    "The p-value ≤ 0.05 → You reject the Null Hypothesis (H0). We have statistical evidence to defend that people who left the company (yes) have received less training than employees who stayed (no)."
   ]
  },
  {
   "cell_type": "code",
   "execution_count": null,
   "metadata": {},
   "outputs": [],
   "source": [
    "## Estrategia 2 : Los que viven más lejor son más propensos a la rotación: ofrecer bonos transporte, incentivar teletrabajo.\n",
    "\n",
    "## Strategy 2: Those who live further away are more inclined to rotate: offer transport bonus, encourage home-working."
   ]
  },
  {
   "cell_type": "code",
   "execution_count": null,
   "metadata": {},
   "outputs": [
    {
     "name": "stdout",
     "output_type": "stream",
     "text": [
      "Shapiro - NO Attrition: p-value = 2.1811995997111563e-33\n",
      "Shapiro - YES Attrition: p-value = 1.1323437492395478e-11\n"
     ]
    }
   ],
   "source": [
    "#De nuevo ejecutamos el test de Shapiro-Wilk para detectar si los datos siguen una distribución normal, pues más preciso que otros test como el de Kolmogorov.\n",
    "\n",
    "#Again, we run the Shapiro-Wilk test to detect whether the data follow a normal distribution, as it is more accurate than other tests such as the Kolmogorov test.\n",
    "\n",
    "stat_no, p_no = shapiro(df_talento[df_talento['attrition'] == 'no']['distance_from_home'])\n",
    "stat_yes, p_yes = shapiro(df_talento[df_talento['attrition'] == 'yes']['distance_from_home'])\n",
    "\n",
    "print(f\"Shapiro - NO Attrition: p-value = {p_no}\")\n",
    "print(f\"Shapiro - YES Attrition: p-value = {p_yes}\")\n"
   ]
  },
  {
   "cell_type": "code",
   "execution_count": null,
   "metadata": {},
   "outputs": [
    {
     "name": "stdout",
     "output_type": "stream",
     "text": [
      "Mann-Whitney U test (Distance) p-value: 0.02841495045159129\n"
     ]
    }
   ],
   "source": [
    "#no es una distribucion normal por lo que probamos con Mann-Whitney, las hipotesis son:\n",
    "#H0: La distancia al trabajo en el grupo \"YES Attrition\" es igual o menor que en el grupo \"NO Attrition\".\n",
    "#H1: La distancia al trabajo en el grupo \"YES Attrition\" es mayor que en el grupo \"NO Attrition\".\n",
    "\n",
    "#is not a normal distribution so we test with Mann-Whitney, the hypotheses are:\n",
    "#H0: The distance to work in the ‘YES Attrition’ group is equal to or less than in the ‘NO Attrition’ group.\n",
    "#H1: The distance to work in the YES Attrition group is greater than in the NO Attrition group.\n",
    "\n",
    "u_stat, p_mw = mannwhitneyu(\n",
    "    df_talento[df_talento['attrition'] == 'yes']['distance_from_home'],\n",
    "    df_talento[df_talento['attrition'] == 'no']['distance_from_home'],\n",
    "    alternative='greater')\n",
    "\n",
    "print(f\"Mann-Whitney U test (Distance) p-value: {p_mw}\")\n"
   ]
  },
  {
   "cell_type": "markdown",
   "metadata": {},
   "source": [
    "El valor de p ≤ 0.05 → Rechazas la Hipótesis Nula (H0). Demostramos estadisticamente que la distancia desde casa al trabajo de los empleados que se fueron es mayor que la que se quedaron.\n",
    "\n",
    "The p-value ≤ 0.05 → Rejects the Null Hypothesis (H0). We show statistically that the distance from home to work of employees who left is greater than that of those who stayed."
   ]
  },
  {
   "cell_type": "code",
   "execution_count": null,
   "metadata": {},
   "outputs": [],
   "source": [
    "## Estrategia 3: Revisar incentivos en los puestos criticos de Sales representative \n",
    "#### Hipótesis a validar:\n",
    "#H0: No hay diferencia en la tasa de rotación entre Sales Representatives y otros puestos.\n",
    "#H1: Sales Representatives tienen una mayor tasa de rotación.\n",
    "\n",
    "## Strategy 3: Review incentives in key Sales representative positions \n",
    "#### Hypothesis to be validated:\n",
    "#H0: There is no difference in turnover rate between Sales Representatives and other positions.\n",
    "#H1: Sales Representatives have a higher turnover rate."
   ]
  },
  {
   "cell_type": "code",
   "execution_count": null,
   "metadata": {},
   "outputs": [],
   "source": [
    "#Debemos crear una variable binaria que necesitamos para poder separar claramente los dos grupos a comparar.\n",
    "\n",
    "#We need to create a binary variable that we need to be able to clearly separate the two groups to be compared.\n",
    "\n",
    "df_talento['is_sales'] = df_talento['job_role'].apply(lambda x: 1 if x.lower() == 'sales representative' else 0)"
   ]
  },
  {
   "cell_type": "code",
   "execution_count": null,
   "metadata": {},
   "outputs": [
    {
     "name": "stdout",
     "output_type": "stream",
     "text": [
      "Chi2 Test p-value: 4.8157553447255975e-09\n",
      "attrition    no  yes\n",
      "is_sales            \n",
      "0          1218  208\n",
      "1            51   33\n"
     ]
    }
   ],
   "source": [
    "#aqui no podemos usar Mann-Whitney U ni T de Student, puesto que queremos comparar proporciones o asociaciones entre dos variables categoricas.\n",
    "#creamos una tabla de contingencia para ver cuantos empleados hay en cada combinacion\n",
    "\n",
    "#Here we cannot use Mann-Whitney U or Student's T, since we want to compare proportions or combinations between two categorical variables.\n",
    "#we create a contingency table to see how many employees are in each combination.\n",
    "\n",
    "contingencia = pd.crosstab(df_talento['is_sales'], df_talento['attrition'])\n",
    "\n",
    "#Y ejecutamos el test para comparar si la distribucion de la rotacion es independiente o no por el hecho de ser Sales Representative.\n",
    "\n",
    "#And we run the test to compare whether or not the distribution of the rotation is independent of the fact that it is Sales Representative.\n",
    "\n",
    "chi2, p, dof, expected = chi2_contingency(contingencia)\n",
    "\n",
    "print(f\"Chi2 Test p-value: {p}\")\n",
    "print(contingencia)\n"
   ]
  },
  {
   "cell_type": "markdown",
   "metadata": {},
   "source": [
    "El p-value: 4.8157553447255975e-09 esta muy por debajo de 0.05, \n",
    "por lo que rechazamos la hipotesis nula y nos demuestra que si existe una relacion signifivativa entre trabajar como Sales REpresentative en ABC Corporation y la rotacion laboral.\n",
    "\n",
    "The p-value: 4.8157553447255975e-09 is far below 0.05, \n",
    "so we reject the null hypothesis and show that there is a significant relationship between working as a Sales Representative at ABC Corporation and employment turnover."
   ]
  },
  {
   "cell_type": "code",
   "execution_count": null,
   "metadata": {},
   "outputs": [],
   "source": [
    "## Estrategia 4: Ampliar el programa de politicas de participacion (stock_option)\n",
    "# Hipotesis a comparar:\n",
    "#H0: No hay diferencia en el nivel de stock option entre quienes se quedan y quienes se van.\n",
    "#H1: Los empleados que se van tienen menos stock option.\n",
    "\n",
    "## Strategy 4: Scaling up the participation in stock options programme \n",
    "#-Hypotheses to compare:\n",
    "#H0: There is no difference in the level of stock option between those who stay and those who leave.\n",
    "#H1: Employees who leave have less stock option."
   ]
  },
  {
   "cell_type": "code",
   "execution_count": null,
   "metadata": {},
   "outputs": [
    {
     "name": "stdout",
     "output_type": "stream",
     "text": [
      "Shapiro - NO Attrition: p-value = 1.4309034137646362e-36\n",
      "Shapiro - YES Attrition: p-value = 6.261739387733629e-22\n"
     ]
    }
   ],
   "source": [
    "#Ejecutamos el test de normalidad sobre stock_option_level\n",
    "\n",
    "#Run the normality test on stock_option_level\n",
    "\n",
    "stat_no, p_no = shapiro(df_talento[df_talento['attrition'] == 'no']['stock_option_level'])\n",
    "stat_yes, p_yes = shapiro(df_talento[df_talento['attrition'] == 'yes']['stock_option_level'])\n",
    "\n",
    "print(f\"Shapiro - NO Attrition: p-value = {p_no}\")\n",
    "print(f\"Shapiro - YES Attrition: p-value = {p_yes}\")\n"
   ]
  },
  {
   "cell_type": "code",
   "execution_count": null,
   "metadata": {},
   "outputs": [
    {
     "name": "stdout",
     "output_type": "stream",
     "text": [
      "Mann-Whitney U test (Stock Options) p-value: 1.9184993950372736e-11\n"
     ]
    }
   ],
   "source": [
    "#Ninguno de los dos grupos sigue una distribucion normal asi que nos vamos a por Mann-Whitney \n",
    "\n",
    "#Neither of the two groups follows a normal distribution so we go for Mann-Whitney U.\n",
    "\n",
    "u_stat, p_mw = mannwhitneyu(\n",
    "    df_talento[df_talento['attrition'] == 'yes']['stock_option_level'],\n",
    "    df_talento[df_talento['attrition'] == 'no']['stock_option_level'],\n",
    "    alternative='less')\n",
    "\n",
    "print(f\"Mann-Whitney U test (Stock Options) p-value: {p_mw}\")\n"
   ]
  },
  {
   "cell_type": "markdown",
   "metadata": {},
   "source": [
    "El valor de p ≤ 0.05 → Rechazas la Hipótesis Nula (H0). Es un resultado muy significativo y confirmamos que los empleados que se van tiene menos stock option que los que se quedan\n",
    "\n",
    "The p-value ≤ 0.05 → You reject the Null Hypothesis (H0). It is a highly significant result and we confirm that employees who leave have less stock option than those who stay."
   ]
  },
  {
   "cell_type": "code",
   "execution_count": null,
   "metadata": {},
   "outputs": [],
   "source": [
    "## Estrategia 5: limitar las horas extras o diseñar un sistema de carga laboral\n",
    "## Hipótesis a validar:\n",
    "# H0: No hay diferencia significativa en el nivel de stock options entre quienes se van y quienes se quedan.\n",
    "# H1: Los empleados que se van tienen menos stock options.\n",
    "\n",
    "## Strategy 5: Restrict overtime or devise a working load system\n",
    "## Hypotheses to be validated:\n",
    "# H0: There is no significant difference in the level of stock options between leavers and stayers.\n",
    "# H1: Employees who leave have fewer stock options."
   ]
  },
  {
   "cell_type": "code",
   "execution_count": null,
   "metadata": {},
   "outputs": [
    {
     "name": "stdout",
     "output_type": "stream",
     "text": [
      "Chi2 Test p-value: 7.530084867181445e-12\n",
      "attrition   no  yes\n",
      "overtime           \n",
      "No         569   69\n",
      "Yes        168   74\n",
      "unknown    532   98\n"
     ]
    }
   ],
   "source": [
    "#As they are categorical variables and we would like to measure their relationship, we use chi-square directly as an inferential test.\n",
    "contingencia = pd.crosstab(df_talento['overtime'], df_talento['attrition'])\n",
    "chi2, p, dof, expected = chi2_contingency(contingencia)\n",
    "\n",
    "print(f\"Chi2 Test p-value: {p}\")\n",
    "print(contingencia)\n"
   ]
  },
  {
   "cell_type": "markdown",
   "metadata": {},
   "source": [
    "El valor de p ≤ 0.05 → Se rechaza la Hipótesis Nula (H0). Obtenemos evidencia estadística muy fuerte de que hacer horas extra está relacionado con la rotación\n",
    "\n",
    "The p-value ≤ 0.05 → The Null Hypothesis (H0) is rejected. We obtain very strong statistical evidence that working overtime is related to turnover."
   ]
  }
 ],
 "metadata": {
  "kernelspec": {
   "display_name": "base",
   "language": "python",
   "name": "python3"
  },
  "language_info": {
   "codemirror_mode": {
    "name": "ipython",
    "version": 3
   },
   "file_extension": ".py",
   "mimetype": "text/x-python",
   "name": "python",
   "nbconvert_exporter": "python",
   "pygments_lexer": "ipython3",
   "version": "3.12.7"
  }
 },
 "nbformat": 4,
 "nbformat_minor": 2
}
